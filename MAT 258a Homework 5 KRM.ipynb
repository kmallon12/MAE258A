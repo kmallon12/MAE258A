{
 "cells": [
  {
   "cell_type": "markdown",
   "metadata": {
    "collapsed": true
   },
   "source": [
    "# MAT258a\n",
    "Kevin Mallon\n",
    "Homework 5\n",
    "Problem 4\n",
    "\n",
    "## Results\n",
    "https://docs.google.com/spreadsheets/d/1gaGwP-BuMoko4a-6pwfsBzsuA_ukOFhTFzWCooKMUvI/edit?usp=sharing\n",
    "\n",
    "## Info\n",
    "Implementation of an augmented Lagrangian algorithm using BFGS for minimization. The BFGS method uses Lp and the gradient of Lp to approximate the Hessian of Lp. A linesearch meeting both Wolfe conditions is used to ensure sufficient descent in a converging direction. The augmented Lagrangian algorith itself checks if the norm of the constraints c(x) is less than some eta. If so, it recomputes y and shrinks eta. If not, it increases the penalty, rho.\n",
    "\n"
   ]
  },
  {
   "cell_type": "code",
   "execution_count": 9,
   "metadata": {
    "collapsed": false
   },
   "outputs": [
    {
     "data": {
      "text/plain": [
       "hockobj (generic function with 2 methods)"
      ]
     },
     "execution_count": 9,
     "metadata": {},
     "output_type": "execute_result"
    }
   ],
   "source": [
    "function hockobj(x, pnum)\n",
    "    x1=x[1]\n",
    "    x2=x[2]\n",
    "    if pnum==6\n",
    "        fx=(1-x1)^2\n",
    "        gx=[2x1-2;0]\n",
    "        Hx=[2 0;0 0]\n",
    "        cx=10*(x2-x1^2)\n",
    "        Jx=[-20x1 20] \n",
    "    elseif pnum==7\n",
    "        fx=log(1+x1^2)-x2\n",
    "        gx=[2x1/(1+x1^2); -1]\n",
    "        Hx=[-2(x1^2-1)/(x1^2+1)^2 0;0 0]\n",
    "        cx=(1+x1^2)^2+x2^2-4\n",
    "        Jx=[4(x1^3+x1) 2x2] \n",
    "    elseif pnum==8\n",
    "        fx=-1\n",
    "        gx=[0;0]\n",
    "        Hx=[0 0;0 0]\n",
    "        cx=[x1^2+x2^2-25;x1*x2-9]\n",
    "        Jx=[2x1 2x2 ; x2 x1] \n",
    "    elseif pnum==9\n",
    "        fx=sin(π*x1/12)cos(π*x2/16)\n",
    "        gx=[(π/12)cos(π*x1/12)cos(π*x2/16);-(π/16)sin(π*x1/12)sin(π*x2/16)]\n",
    "        Hx=[(-((π/12)^2)*sin(π*x1/12)*cos(π*x2/16)) (-(π/12)*(π/16)*cos(π*x1/12)*sin(π*x2/16));\n",
    "            (-(π/12)*(π/16)*cos(π*x1/12)*sin(π*x2/16)) (-((π/16)^2)*sin(π*x1/12)*cos(π*x2/16)) ]\n",
    "        cx=4x1-3x2\n",
    "        Jx=[4 -3] \n",
    "    end\n",
    "    return(fx,gx,Hx,cx,Jx)\n",
    "end"
   ]
  },
  {
   "cell_type": "code",
   "execution_count": 10,
   "metadata": {
    "collapsed": false
   },
   "outputs": [
    {
     "data": {
      "text/plain": [
       "lagrangefunc (generic function with 1 method)"
      ]
     },
     "execution_count": 10,
     "metadata": {},
     "output_type": "execute_result"
    }
   ],
   "source": [
    "function lagrangefunc(x, y, ρ, pnum)\n",
    "    (fx,gx,Hx,cx,Jx)=hockobj(x, pnum)\n",
    "    Lp = fx -y'cx + (ρ/2)dot(cx,cx)\n",
    "    ∇Lp = gx - Jx'y + ρ*Jx'cx\n",
    "    \n",
    "    Lp=Lp[1]\n",
    "    ∇Lp=[∇Lp[1];∇Lp[2]]\n",
    "    \n",
    "    return(Lp, ∇Lp)\n",
    "end"
   ]
  },
  {
   "cell_type": "code",
   "execution_count": 11,
   "metadata": {
    "collapsed": false
   },
   "outputs": [
    {
     "data": {
      "text/plain": [
       "auglagrangian (generic function with 1 method)"
      ]
     },
     "execution_count": 11,
     "metadata": {},
     "output_type": "execute_result"
    }
   ],
   "source": [
    "function auglagrangian( obj, x0; pnum=6, maxIts=100, relTol=1e-6, absTol=1e-2)\n",
    "    \n",
    "    # Initialize\n",
    "    k=0\n",
    "    ηk=.10\n",
    "    x=x0\n",
    "    (~,~,~,cx,~)=obj(x, pnum)\n",
    "    y=0.*cx\n",
    "    ρ=0.00001\n",
    "    \n",
    "    # Perform Initial Step\n",
    "    (x)=penalizedbfgs(lagrangefunc,x0,y,ρ,pnum=pnum)\n",
    "    (fx,gx,~,cx,Jx)=hockobj(x, pnum)\n",
    "    k=k+1\n",
    "    \n",
    "    # Begin Loop\n",
    "    while ( norm(cx)>1e-6 || norm(gx-Jx'y)>1e-6 ) && (k <= maxIts)\n",
    "        if norm(cx)<ηk\n",
    "            y=y-ρ*cx\n",
    "            ηk=ηk/2\n",
    "        else\n",
    "            ρ=5*ρ\n",
    "        end\n",
    "        (x)=penalizedbfgs(lagrangefunc,x,y,ρ,pnum=pnum)\n",
    "        (fx,gx,~,cx,Jx)=hockobj(x, pnum)\n",
    "        k=k+1\n",
    "    end\n",
    "    \n",
    "    return(x, fx, norm(gx), norm(cx), k)\n",
    "end"
   ]
  },
  {
   "cell_type": "code",
   "execution_count": 12,
   "metadata": {
    "collapsed": false
   },
   "outputs": [
    {
     "data": {
      "text/plain": [
       "penalizedbfgs (generic function with 1 method)"
      ]
     },
     "execution_count": 12,
     "metadata": {},
     "output_type": "execute_result"
    }
   ],
   "source": [
    "function penalizedbfgs( obj, x0, yl, ρ; pnum=6, maxIts=100, relTol=1e-4)\n",
    "    \n",
    "    # Initialize Process\n",
    "    its=0\n",
    "    (f, g) = obj(x0,yl,ρ,pnum)\n",
    "    g0=g\n",
    "    x=x0\n",
    "    \n",
    "    # Initialize with Gradient Descent\n",
    "    Binv=eye(length(g))                     # Start with B=I\n",
    "    d=-Binv*g                               # Determine step direction\n",
    "    (alfa)=wolfesearch(x,d,yl,ρ,obj,pnum)     # Backtracking linesearch\n",
    "    x=x+alfa*d                              # Take a step\n",
    "    its=its+1                               # Increase step counter\n",
    "    gold=g                                  # Save previous gradient\n",
    "    (f, g) = obj(x,yl,ρ,pnum)                 # Evaluate function for new x\n",
    "\n",
    "    # Begin Minimization\n",
    "    while (norm(g) > (norm(g0)*relTol)) && (its <= maxIts)\n",
    "        s=alfa*d                            # Compute s\n",
    "        y=g-gold                            # Compute y\n",
    "        Binv=Binv+(dot(s,y)+dot(y,Binv*y))*(s*s')/dot(s,y)^2-(Binv*y*s'+s*y'*Binv)/dot(s,y) # Determine B^-1\n",
    "        d=-Binv*g\n",
    "        alfa=wolfesearch(x,d,yl,ρ,obj,pnum)     # Backtracking linesearch\n",
    "        xold=x\n",
    "        x=x+alfa*d                          # Take a step\n",
    "        its=its+1                           # Increase step counter\n",
    "        gold=g                              # Save previous gradient\n",
    "        (f, g) = obj(x,yl,ρ,pnum)             # Evaluate function for new x \n",
    "    end\n",
    "    \n",
    "    return(x)\n",
    "end"
   ]
  },
  {
   "cell_type": "code",
   "execution_count": 24,
   "metadata": {
    "collapsed": false
   },
   "outputs": [
    {
     "data": {
      "text/plain": [
       "wolfesearch (generic function with 1 method)"
      ]
     },
     "execution_count": 24,
     "metadata": {},
     "output_type": "execute_result"
    }
   ],
   "source": [
    "# Forward/backward linesearch (Wolfe)\n",
    "function wolfesearch(x,d,y,ρ,obj,pnum) \n",
    "    # Armijo condition linesearch\n",
    "    mu=1e-4\n",
    "    alfa_ar=1\n",
    "    (f0, g0) = obj(x,y,ρ,pnum)\n",
    "    (fn, gn) = obj(x+alfa_ar*d,y,ρ,pnum)\n",
    "    k=1\n",
    "    while fn > f0 + alfa_ar*mu*dot(g0,d)\n",
    "        alfa_ar=0.5*alfa_ar\n",
    "        (fn,~)=obj(x+alfa_ar*d,y,ρ,pnum)\n",
    "    end \n",
    "    # Wolfe condition linesearch\n",
    "    k=1\n",
    "    maxits=25                                           # Maximum iterations\n",
    "    eta=[logspace(-3,0,maxits);1]                       # W.C. bound: relax as k->maxits\n",
    "    alfa_min=0                                          # Initial lower bound on alfa\n",
    "    alfa_max=alfa_ar/0.5                                # Initial upper bound on alfa\n",
    "    \n",
    "    alfa=(alfa_min+alfa_max)/2                          # Initial guess for alfa\n",
    "    alfa_lo=(3*alfa_min+alfa)/4\n",
    "    alfa_hi=(alfa+3*alfa_max)/4\n",
    "    \n",
    "    (fmin,~) = obj(x+alfa_min*d,y,ρ,pnum)               #                       \n",
    "    (f,g)    = obj(x+alfa*d,y,ρ,pnum)                   # Evaluate at the guess and at each bound.  \n",
    "    (fmax,~) = obj(x+alfa_max*d,y,ρ,pnum)               #\n",
    "    \n",
    "    while abs(dot(g,d)/dot(g0,d))>eta[k] && k<=maxits\n",
    "        if f>=fmax && f>=fmin                           # If the function value is greater at the guess than at \n",
    "            alfa=(alfa_max-alfa_min)*rand(1)+alfa_min   # either bound, make a new guess.\n",
    "        else\n",
    "            if f < fmax && f <fmin                      #\n",
    "                if fmin>fmax                            #\n",
    "                    alfa_max=alfa_hi                    #\n",
    "                else                                    #\n",
    "                    alfa_min=alfa_lo                    # \n",
    "                end                                     # Redefine bounds based on function values\n",
    "            elseif fmin < f && f < fmax                 #\n",
    "                alfa_max=alfa_hi                        #\n",
    "            elseif fmax < f && f < fmin                 #\n",
    "                alfa_min=alfa_lo                        #\n",
    "            end                                         \n",
    "            alfa=(alfa_min+alfa_max)/2                  # Make a guess between new bounds.\n",
    "        end\n",
    "\n",
    "        alfa_lo=(3*alfa_min+alfa)/4\n",
    "        alfa_hi=(alfa+3*alfa_max)/4\n",
    "    \n",
    "        alfa_min=alfa_min[1]\n",
    "        alfa=alfa[1]\n",
    "        alfa_max=alfa_max[1]\n",
    "        \n",
    "        (fmin,~) = obj(x+alfa_min*d,y,ρ,pnum)           #                       \n",
    "        (f,g)    = obj(x+alfa*d,y,ρ,pnum)               # Evaluate at the guess and at each bound.\n",
    "        (fmax,~) = obj(x+alfa_max*d,y,ρ,pnum)           #\n",
    "        k=k+1\n",
    "    end\n",
    "    \n",
    "    return(alfa)\n",
    "end"
   ]
  },
  {
   "cell_type": "code",
   "execution_count": 25,
   "metadata": {
    "collapsed": false
   },
   "outputs": [
    {
     "name": "stdout",
     "output_type": "stream",
     "text": [
      "x*=[-27.000000000009265,-36.000000000016186]\n",
      "f*=-0.49999999999962425\n",
      "g*=0.16362461737421163\n",
      "c*=1.1496581464598421e-11\n",
      "its=11\n"
     ]
    }
   ],
   "source": [
    "# Define problem to solve, call solver\n",
    "pnum=9\n",
    "\n",
    "x0=[-1.2;1]*(pnum==6)+[2;2]*(pnum==7)+[2;1]*(pnum==8)+[0;0]*(pnum==9)\n",
    "\n",
    "(xs, fs, gs, cs, k)=auglagrangian(hockobj,x0,pnum=pnum,maxIts=100,relTol=1e-6,absTol=1e-2)\n",
    "\n",
    "println(\"x*=$xs\")\n",
    "println(\"f*=$fs\")\n",
    "println(\"g*=$gs\")\n",
    "println(\"c*=$cs\")\n",
    "println(\"its=$k\")"
   ]
  },
  {
   "cell_type": "code",
   "execution_count": null,
   "metadata": {
    "collapsed": true
   },
   "outputs": [],
   "source": []
  }
 ],
 "metadata": {
  "kernelspec": {
   "display_name": "Julia 0.4.0",
   "language": "julia",
   "name": "julia-0.4"
  },
  "language_info": {
   "file_extension": ".jl",
   "mimetype": "application/julia",
   "name": "julia",
   "version": "0.4.0"
  }
 },
 "nbformat": 4,
 "nbformat_minor": 0
}
